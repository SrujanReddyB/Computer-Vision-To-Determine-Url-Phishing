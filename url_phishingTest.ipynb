{
 "cells": [
  {
   "cell_type": "code",
   "execution_count": 1,
   "metadata": {},
   "outputs": [],
   "source": [
    "import cv2\n",
    "import numpy as np\n",
    "import import_ipynb\n",
    "from tensorflow.keras.models import load_model"
   ]
  },
  {
   "cell_type": "code",
   "execution_count": 2,
   "metadata": {},
   "outputs": [],
   "source": [
    "frameHeight = 480\n",
    "frameWidth= 640         \n",
    "brightness = 180\n",
    "threshold = 0.24       \n",
    "font = cv2.FONT_HERSHEY_SIMPLEX"
   ]
  },
  {
   "cell_type": "code",
   "execution_count": 3,
   "metadata": {},
   "outputs": [
    {
     "data": {
      "text/plain": [
       "True"
      ]
     },
     "execution_count": 3,
     "metadata": {},
     "output_type": "execute_result"
    }
   ],
   "source": [
    "cap = cv2.VideoCapture(1)\n",
    "cap.set(15, brightness)\n",
    "cap.set(50, frameHeight)\n",
    "cap.set(40, frameWidth)"
   ]
  },
  {
   "cell_type": "code",
   "execution_count": 4,
   "metadata": {},
   "outputs": [],
   "source": [
    "model=load_model('my_model.h5')\n",
    "\n",
    "# IMPORT THE TRAINED MODEL\n",
    "#pickle_in=open(\"model_trained.p\",\"rb\")  ## rb = READ BYTE\n",
    "#model=pickle.load(pickle_in)\n",
    "#import url_phishing1 as model"
   ]
  },
  {
   "cell_type": "code",
   "execution_count": 5,
   "metadata": {},
   "outputs": [],
   "source": [
    "def grayscale(img):\n",
    "    img = cv2.cvtColor(img,cv2.COLOR_BGR2GRAY)\n",
    "    return img\n",
    "def equalize(img):\n",
    "    img =cv2.equalizeHist(img)\n",
    "    return img\n",
    "def preprocessing(img):\n",
    "    img = grayscale(img)\n",
    "    img = equalize(img)\n",
    "    img = img/255\n",
    "    return img\n",
    "def getCalssName(classNo):\n",
    "    if   classNo == 0: return 'Adidas Logo'\n",
    "    elif classNo == 1: return 'Adobe Logo'\n",
    "    elif classNo == 2: return 'Airtel Logo'\n",
    "    elif classNo == 3: return 'Amazon Logo'\n",
    "    elif classNo == 4: return 'Android Logo'\n",
    "    elif classNo == 5: return 'Apple Logo'\n",
    "    elif classNo == 6: return 'Asus Logo'\n",
    "    elif classNo == 7: return 'BMW Logo'\n",
    "    elif classNo == 8: return 'Calvin-Klein Logo'\n",
    "    elif classNo == 9: return 'Dell Logo'\n",
    "    elif classNo == 10: return 'Facebook Logo'\n",
    "    #elif classNo == 11: return 'Ford Logo'\n",
    "    #elif classNo == 12: return 'Google-Chrome Logo'\n",
    "    #elif classNo == 13: return 'Google-Drive Logo'\n",
    "    #elif classNo == 14: return 'Honda Logo'\n",
    "    #elif classNo == 15: return 'Instagram Logo'\n",
    "    \n",
    "    else : return 'This might be a phishing website'\n",
    "\n"
   ]
  },
  {
   "cell_type": "code",
   "execution_count": null,
   "metadata": {},
   "outputs": [
    {
     "name": "stderr",
     "output_type": "stream",
     "text": [
      "C:\\Users\\lenovo\\anaconda3\\lib\\site-packages\\tensorflow\\python\\keras\\engine\\sequential.py:450: UserWarning: `model.predict_classes()` is deprecated and will be removed after 2021-01-01. Please use instead:* `np.argmax(model.predict(x), axis=-1)`,   if your model does multi-class classification   (e.g. if it uses a `softmax` last-layer activation).* `(model.predict(x) > 0.5).astype(\"int32\")`,   if your model does binary classification   (e.g. if it uses a `sigmoid` last-layer activation).\n",
      "  warnings.warn('`model.predict_classes()` is deprecated and '\n"
     ]
    }
   ],
   "source": [
    "while True:\n",
    " \n",
    "# READ IMAGE\n",
    "    cap = cv2.VideoCapture(1)\n",
    "    success, imgOrignal = cap.read()\n",
    "\n",
    "# PROCESS IMAGE\n",
    "    img = np.asarray(imgOrignal)\n",
    "    img = cv2.resize(img, (400, 400))\n",
    "    img = preprocessing(img)\n",
    "    cv2.imshow(\"Processed Image\", img)\n",
    "    img = img.reshape(1, 400, 400, 1)\n",
    "    cv2.putText(imgOrignal, \"CLASS: \" , (20, 35), font, 0.75, (0, 0, 255), 2, cv2.LINE_AA)\n",
    "    cv2.putText(imgOrignal, \"PROBABILITY: \", (20, 75), font, 0.75, (0, 0, 255), 2, cv2.LINE_AA)\n",
    "# PREDICT IMAGE\n",
    "    predictions = model.predict(img)\n",
    "    classIndex = model.predict_classes(img)\n",
    "    probabilityValue =np.amax(predictions)\n",
    "    if probabilityValue > threshold:\n",
    "#print(getCalssName(classIndex))\n",
    "        cv2.putText(imgOrignal,str(classIndex)+\" \"+str(getCalssName(classIndex)), (120, 35), font, 0.75, (0, 0, 255), 2, cv2.LINE_AA)\n",
    "        cv2.putText(imgOrignal, str(round(probabilityValue*100,2) )+\"%\", (180, 75), font, 0.75, (0, 0, 255), 2, cv2.LINE_AA)\n",
    "        cv2.imshow(\"Result\", imgOrignal)\n",
    " \n",
    "        cv2.waitKey(1)\n",
    "    #break\n"
   ]
  },
  {
   "cell_type": "code",
   "execution_count": null,
   "metadata": {},
   "outputs": [],
   "source": []
  },
  {
   "cell_type": "code",
   "execution_count": null,
   "metadata": {},
   "outputs": [],
   "source": []
  }
 ],
 "metadata": {
  "kernelspec": {
   "display_name": "Python 3",
   "language": "python",
   "name": "python3"
  },
  "language_info": {
   "codemirror_mode": {
    "name": "ipython",
    "version": 3
   },
   "file_extension": ".py",
   "mimetype": "text/x-python",
   "name": "python",
   "nbconvert_exporter": "python",
   "pygments_lexer": "ipython3",
   "version": "3.8.5"
  }
 },
 "nbformat": 4,
 "nbformat_minor": 4
}
